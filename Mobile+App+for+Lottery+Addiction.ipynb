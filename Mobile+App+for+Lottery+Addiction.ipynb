{
 "cells": [
  {
   "cell_type": "markdown",
   "metadata": {},
   "source": [
    "# MOBILE APP FOR LOTTERY ADDICTION\n",
    "\n",
    "A medical institute that aims to prevent and treat gambling addictions wants to build a dedicated mobile app to help lottery addicts better estimate their chances of winning. The institute has a team of engineers that will build the app, but they need us to create the logical core of the app and calculate probabilities.\n",
    "\n",
    "For the first version of the app, they want us to focus on the 6/49 lottery and build functions that enable users to answer questions like:\n",
    "\n",
    "What is the probability of winning the big prize with a single ticket?\n",
    "What is the probability of winning the big prize if we play 40 different tickets (or any other number)?\n",
    "What is the probability of having at least five (or four, or three, or two) winning numbers on a single ticket?\n",
    "\n",
    "The institute also wants us to consider historical data coming from the national 6/49 lottery game in Canada. The data set has data for 3,665 drawings, dating from 1982 to 2018 (we'll come back to this).\n"
   ]
  },
  {
   "cell_type": "markdown",
   "metadata": {},
   "source": [
    "Since our goal is to write code that can enable users to answer probability questions about playing the lottery, it makes sense for us to define two functions that we will use to help us."
   ]
  },
  {
   "cell_type": "code",
   "execution_count": 1,
   "metadata": {
    "collapsed": true
   },
   "outputs": [],
   "source": [
    "def factorial(n):\n",
    "    count = 1\n",
    "    for i in range(n,0,-1):\n",
    "        count*= i\n",
    "    return count\n",
    "\n",
    "def combinations(n,k):\n",
    "    top = factorial(n)\n",
    "    bottom = factorial(k) * factorial(n-k)\n",
    "    return top/bottom\n"
   ]
  },
  {
   "cell_type": "markdown",
   "metadata": {},
   "source": [
    "In the 6/49 lottery, six numbers are drawn from a set of 49 numbers that range from 1 to 49. A player wins the big prize if the six numbers on their tickets match all six numbers drawn. The player will not win the prize if any of their six numbers do not match to the numbers drawn. \n",
    "\n",
    "For the first version of the app, we want players to be able to calculate the probability of winning the big prize with the various numbers they play on a single ticket, so we will start by building a function that calculates the probability of winning the big prize for any given ticket.\n",
    "\n",
    "We discussed with the engineering team of the medical institute, and they told us we need to be aware of the following details when we write the function:\n",
    "\n",
    "Inside the app, the user inputs six different numbers from 1 to 49.\n",
    "Under the hood, the six numbers will come as a Python list, which will serve as the single input to our function.\n",
    "The engineering team wants the function to print the probability value in a friendly way — in a way that people without any probability training are able to understand."
   ]
  },
  {
   "cell_type": "markdown",
   "metadata": {},
   "source": [
    "## CHECK WHETHER TICKET IS VALID\n",
    "\n",
    "Since no numbers can be repeated, we need to create a function that determines whether the numbers that are input by the user create a valid ticket, rather then just allowing the user to input 6 random characters into our code, reducing how reliable our app comes off to be."
   ]
  },
  {
   "cell_type": "code",
   "execution_count": 2,
   "metadata": {
    "collapsed": false
   },
   "outputs": [],
   "source": [
    "def valid_ticket():\n",
    "    print(\"Please enter your 6 ticket numbers: \")\n",
    "    print(\"*********************************\")\n",
    "    numbers = []\n",
    "    while len(numbers) < 6:\n",
    "        try:\n",
    "            number=input('Enter ticket number {}: '.format(len(numbers)+1))\n",
    "            print(\"*********************************\")\n",
    "            if int(number) in range(1,50) and int(number) not in numbers:\n",
    "                numbers.append(int(number))\n",
    "            else:\n",
    "                if int(number) not in range(1,50):\n",
    "                    print(\"The number must be in the range from 1 to 49.\")\n",
    "                    print(\"*********************************\")\n",
    "                else:\n",
    "                    print(\"The number exists already.\")\n",
    "                    print(\"*********************************\")\n",
    "        except :\n",
    "            print(\"The input is not valid.\")\n",
    "            print(\"*********************************\")\n",
    "    return numbers"
   ]
  },
  {
   "cell_type": "code",
   "execution_count": 3,
   "metadata": {
    "collapsed": false
   },
   "outputs": [],
   "source": [
    "#there are 49 possible numbers, with 6 being chosen without replacement,\n",
    "#meaning the same number cannot be repeated\n",
    "def one_ticket_probability():\n",
    "    ticket = valid_ticket()\n",
    "    total_outcomes = combinations(49,6)\n",
    "    successful_outcomes = 1/total_outcomes\n",
    "    print('Your chance of winning the big prize is: ' + str(round(successful_outcomes *100,6)) + '%. In other words, you have a 1 in 13,983,816 chance of winning.')\n",
    "    return ticket"
   ]
  },
  {
   "cell_type": "markdown",
   "metadata": {},
   "source": [
    "## USING THE CANADA DATA SET\n",
    "\n",
    "In the previous cells, we created functions that allowed us to show users what their chance of winning the big prize of the lottery was for a single ticket. We also want users to be able to compare their ticket against the historical data in Canada and determine whether they would have ever won by now.\n",
    "\n",
    "This data set contains historical data for 3,665 drawings dating from 1982 to 2018 (the data set can be seen through the link: https://www.kaggle.com/datascienceai/lottery-dataset)."
   ]
  },
  {
   "cell_type": "code",
   "execution_count": 4,
   "metadata": {
    "collapsed": false
   },
   "outputs": [
    {
     "data": {
      "text/plain": [
       "(3665, 11)"
      ]
     },
     "execution_count": 4,
     "metadata": {},
     "output_type": "execute_result"
    }
   ],
   "source": [
    "import pandas as pd\n",
    "lottery_df = pd.read_csv('649.csv')\n",
    "lottery_df.shape"
   ]
  },
  {
   "cell_type": "code",
   "execution_count": 5,
   "metadata": {
    "collapsed": false
   },
   "outputs": [
    {
     "name": "stdout",
     "output_type": "stream",
     "text": [
      "   PRODUCT  DRAW NUMBER  SEQUENCE NUMBER  DRAW DATE  NUMBER DRAWN 1  \\\n",
      "0      649            1                0  6/12/1982               3   \n",
      "1      649            2                0  6/19/1982               8   \n",
      "2      649            3                0  6/26/1982               1   \n",
      "\n",
      "   NUMBER DRAWN 2  NUMBER DRAWN 3  NUMBER DRAWN 4  NUMBER DRAWN 5  \\\n",
      "0              11              12              14              41   \n",
      "1              33              36              37              39   \n",
      "2               6              23              24              27   \n",
      "\n",
      "   NUMBER DRAWN 6  BONUS NUMBER  \n",
      "0              43            13  \n",
      "1              41             9  \n",
      "2              39            34  \n",
      "      PRODUCT  DRAW NUMBER  SEQUENCE NUMBER  DRAW DATE  NUMBER DRAWN 1  \\\n",
      "3662      649         3589                0  6/13/2018               6   \n",
      "3663      649         3590                0  6/16/2018               2   \n",
      "3664      649         3591                0  6/20/2018              14   \n",
      "\n",
      "      NUMBER DRAWN 2  NUMBER DRAWN 3  NUMBER DRAWN 4  NUMBER DRAWN 5  \\\n",
      "3662              22              24              31              32   \n",
      "3663              15              21              31              38   \n",
      "3664              24              31              35              37   \n",
      "\n",
      "      NUMBER DRAWN 6  BONUS NUMBER  \n",
      "3662              34            16  \n",
      "3663              49             8  \n",
      "3664              48            17  \n"
     ]
    }
   ],
   "source": [
    "print(lottery_df.head(3))\n",
    "print(lottery_df.tail(3))"
   ]
  },
  {
   "cell_type": "markdown",
   "metadata": {},
   "source": [
    "Now that we have opened and explored the lottery data, we're going to write a function that will enable users to compare their ticket against the historial lottery data in Canada to determine whether their ticket would have every won by now. \n",
    "\n",
    "The engineering team told us that we need to be aware of the following details:\n",
    "-Inside the app, the user inputs six different numbers from 1-49\n",
    "-Under the hood, the six numbers will come as a Python list and serve as an input to our function\n",
    "-The engineering team wants us to write a function that prints:\n",
    "    -The number of times the combination selected occurred in the Canada data set\n",
    "    -The probability of winning the big prize in thte next drawing with that combination."
   ]
  },
  {
   "cell_type": "markdown",
   "metadata": {},
   "source": [
    "##EXTRACTING THE NUMBERS AND CREATING THE FUNCTION\n",
    "\n",
    "We will need to first extract all the winning six numbers from the historical data set as Python sets."
   ]
  },
  {
   "cell_type": "code",
   "execution_count": null,
   "metadata": {
    "collapsed": false
   },
   "outputs": [
    {
     "data": {
      "text/plain": [
       "0    {3, 41, 11, 12, 43, 14}\n",
       "1    {33, 36, 37, 39, 8, 41}\n",
       "2     {1, 6, 39, 23, 24, 27}\n",
       "3     {3, 9, 10, 43, 13, 20}\n",
       "4    {34, 5, 14, 47, 21, 31}\n",
       "Name: winning_numbers, dtype: object"
      ]
     },
     "execution_count": 6,
     "metadata": {},
     "output_type": "execute_result"
    }
   ],
   "source": [
    "def extract_numbers(row):\n",
    "    winning_numbers = set() #needs to be a set, otherwise it would sort the values via append()\n",
    "    for i in range (4,10): #these are the columns that contain the winning numbers\n",
    "        winning_numbers.add(row.iloc[i])\n",
    "    return winning_numbers\n",
    "\n",
    "lottery_df['winning_numbers'] = lottery_df.apply(extract_numbers,axis=1)\n",
    "lottery_df.winning_numbers.head()"
   ]
  },
  {
   "cell_type": "markdown",
   "metadata": {},
   "source": [
    "##CHECKING HISTORIAL OCCURRENCE\n",
    "\n",
    "Now that we have extracted all the winning number sets and saved them to another column, we need to determine whether the user's ticket has ever won."
   ]
  },
  {
   "cell_type": "code",
   "execution_count": null,
   "metadata": {
    "collapsed": false
   },
   "outputs": [
    {
     "name": "stdout",
     "output_type": "stream",
     "text": [
      "Please enter your 6 ticket numbers: \n",
      "*********************************\n"
     ]
    }
   ],
   "source": [
    "def check_historical_occurrence(winning_numbers = lottery_df.winning_numbers):\n",
    "    ticket = one_ticket_probability()\n",
    "    numbers = set(ticket)\n",
    "    matches = lottery_df.winning_numbers == numbers\n",
    "    print('The combination {} has occurred {} time(s) previously'.format(numbers, matches.sum()))\n",
    "    if matches.sum() == 0:\n",
    "        print('The combination has never occurred before. This does not make it more likely to win in the next drawing.')\n",
    "    print('********************************')\n",
    "    print('Your chance to win the big prize in the next drawing with these numbers is still 0.0000072%')\n",
    "\n",
    "check_historical_occurrence()\n"
   ]
  },
  {
   "cell_type": "markdown",
   "metadata": {},
   "source": [
    "## MULTIPLE TICKET PROBABILITY\n",
    "\n",
    "Lottery addicts usually play more than one ticket on a single drawing, believing that this might increase their chances of winning significantly. We have already written functions designed to show their winning chances with a single ticket as well as show the historical winnings associated with this single ticket. Our main purpose of the app is to help them better understand their chances of winning and we therefore need to create a function that will allow them to calculate the chances of winning for any number of difference tickets.\n",
    "\n",
    "The engineering team has given us the following feedback:\n",
    "-The user will input the number of different tickets they want to play\n",
    "-Our function will see an integer between 1 and 13,983,816 (maximum number of different tickets)\n",
    "-The function should print information about the probability of winning the big prize depending on the number of different tickets played\n"
   ]
  },
  {
   "cell_type": "code",
   "execution_count": null,
   "metadata": {
    "collapsed": false
   },
   "outputs": [],
   "source": [
    "def multi_ticket_probability():\n",
    "    total_outcomes = combinations(49,6)\n",
    "    n = input('Enter the number of different tickets you are going to play: ')\n",
    "    if int(n) in range (1,13983817):\n",
    "        chances = int(n) * 100 / total_outcomes\n",
    "        print('Your chances of winning by playing {} ticket(s) are {:.8f} %. '.format(n, chances))\n",
    "    else:\n",
    "        print('Please enter a valid and reasonable number of tickets')\n",
    "    \n",
    "multi_ticket_probability()\n"
   ]
  },
  {
   "cell_type": "markdown",
   "metadata": {},
   "source": [
    "## SMALLER PRIZE PROBABILITY\n",
    "\n",
    "So far, we have developed functions that allow users to determine their chances of winning the big prize by matching all six numbers. However, most lotteries have smaller prizes if the player's ticket matches, 2, 3, 4, or 5, of the six numbers drawn. Therefore, the user might want to know the probability of having 2,3,4, or 5 winning numbers.\n",
    "\n",
    "The engineering details we need to be aware of:\n",
    "-Inside the app, the user inputs:\n",
    "    -six different numbers between 1 and 49; and\n",
    "    -an integer between 2 and 5 that represents the number of winning numbers expected\n",
    "-Our function prints information about the probability of having the inputted number of winning numbers.\n",
    "\n",
    "To calculate the probabilities, we tell the engineering team that the specific combination on the ticket is irrelevant behind the scenes, and we only need the integer between 2 and 5 representing the number of winning numbers expected."
   ]
  },
  {
   "cell_type": "code",
   "execution_count": null,
   "metadata": {
    "collapsed": false
   },
   "outputs": [],
   "source": [
    "def probability_less_6(n):\n",
    "    n_combinations = combinations(6,n)\n",
    "    n_combinations_remaining = combinations(43,6-n)\n",
    "    successful_outcomes = n_combinations * n_combinations_remaining\n",
    "    \n",
    "    n_combinations_total = combinations(49,6)\n",
    "    probability_percent = (successful_outcomes / n_combinations_total *100)\n",
    "    combinations_simplified = round(n_combinations_total/successful_outcomes)\n",
    "    print('Your chances of having {} winning numbers with this ticket are {:.6f}%. \\n In other words, you have a 1 in {} chance to win.'.format(n, probability_percent, int(combinations_simplified)))\n",
    "\n",
    "for number in [2,3,4,5]:\n",
    "    probability_less_6(number)\n",
    "    print('****************************')\n",
    "          \n",
    "    "
   ]
  },
  {
   "cell_type": "markdown",
   "metadata": {},
   "source": [
    "## NEXT STEPS\n",
    "\n",
    "For the first version of the app, we coded four main functions:\n",
    "\n",
    "one_ticket_probability() — calculates the probability of winning the big prize with a single ticket\n",
    "check_historical_occurrence() — checks whether a certain combination has occurred in the Canada lottery data set\n",
    "multi_ticket_probability() — calculates the probability for any number of of tickets between 1 and 13,983,816\n",
    "probability_less_6() — calculates the probability of having two, three, four or five winning numbers exactly\n",
    "Possible features for a second version of the app include:\n",
    "\n",
    "Making the outputs even easier to understand by adding fun analogies (for example, we can find probabilities for strange events and compare with the chances of winning in lottery; for instance, we can output something along the lines \"You are 100 times more likely to be the victim of a shark attack than winning the lottery\")\n",
    "Combining the one_ticket_probability() and check_historical_occurrence() to output information on probability and historical occurrence at the same time\n",
    "Create a function similar to probability_less_6() which calculates the probability of having at least two, three, four or five winning numbers. Hint: the number of successful outcomes for having at least four winning numbers is the sum of these three numbers:\n",
    "The number of successful outcomes for having four winning numbers exactly\n",
    "The number of successful outcomes for having five winning numbers exactly\n",
    "The number of successful outcomes for having six winning numbers exactly"
   ]
  }
 ],
 "metadata": {
  "kernelspec": {
   "display_name": "Python 3",
   "language": "python",
   "name": "python3"
  },
  "language_info": {
   "codemirror_mode": {
    "name": "ipython",
    "version": 3
   },
   "file_extension": ".py",
   "mimetype": "text/x-python",
   "name": "python",
   "nbconvert_exporter": "python",
   "pygments_lexer": "ipython3",
   "version": "3.4.3"
  }
 },
 "nbformat": 4,
 "nbformat_minor": 2
}
